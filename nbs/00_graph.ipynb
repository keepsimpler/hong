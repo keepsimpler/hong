{
 "cells": [
  {
   "cell_type": "code",
   "execution_count": null,
   "metadata": {},
   "outputs": [],
   "source": [
    "# default_exp graph"
   ]
  },
  {
   "cell_type": "code",
   "execution_count": null,
   "metadata": {},
   "outputs": [],
   "source": [
    "#export\n",
    "from hong.imports import *"
   ]
  },
  {
   "cell_type": "code",
   "execution_count": null,
   "metadata": {},
   "outputs": [],
   "source": [
    "#export\n",
    "def cascade(s:int, c:float):\n",
    "    p = (2 * c * s) / (s - 1)\n",
    "    A = np.zeros((s,s))\n",
    "    weakly_connected = False\n",
    "    while not weakly_connected:\n",
    "        for i in range(s-1):\n",
    "            A[i,(i+1):] = np.random.binomial(size=s-i-1, n=1, p=p)\n",
    "        G = nx.from_numpy_matrix(A, create_using=nx.DiGraph())\n",
    "        weakly_connected = nx.is_weakly_connected(G)\n",
    "\n",
    "    G.graph['n'] = s\n",
    "    G.graph['c'] = c\n",
    "    return G"
   ]
  },
  {
   "cell_type": "code",
   "execution_count": null,
   "metadata": {},
   "outputs": [],
   "source": [
    "G = cascade(20, 0.1)"
   ]
  },
  {
   "cell_type": "code",
   "execution_count": null,
   "metadata": {},
   "outputs": [],
   "source": [
    "#export\n",
    "\n",
    "def after_DAG(G, option:str=None):\n",
    "    \"\"\"\n",
    "    Add an unique input node and an unique output node for DAG.\n",
    "    There are two options to add these two new nodes.\n",
    "    First is to connect the new input node to nodes which have zero input degree in the origin DAG,\n",
    "    and connect nodes which have zero output degree to the new output node.\n",
    "    Second is to connect the new input node to all nodes in the origin DAG,\n",
    "    and connect all node in the origin DAG to the new output node.\n",
    "    \"\"\"\n",
    "    n = G.graph['n'] # number of nodes\n",
    "    \n",
    "    # find all input nodes and output nodes\n",
    "    if option == 'all':\n",
    "        in_nodes = out_nodes = range(n)\n",
    "    else:\n",
    "        in_nodes = [v for v, d in G.in_degree() if d==0]\n",
    "        out_nodes = [v for v, d in G.out_degree() if d==0]\n",
    "    # number of input nodes, number of output nodes, length of longest path\n",
    "    # len(in_nodes), len(out_nodes), \n",
    "\n",
    "    # add a node with id: -1 as the unique input node\n",
    "    in_edges = [(-1,i) for i in in_nodes] \n",
    "    G.add_edges_from(in_edges)\n",
    "    # add a node with id: n as the unique output node\n",
    "    out_edges = [(i, n) for i in out_nodes] \n",
    "    G.add_edges_from(out_edges)\n",
    "    \n",
    "    return G"
   ]
  },
  {
   "cell_type": "code",
   "execution_count": null,
   "metadata": {},
   "outputs": [],
   "source": [
    "G = after_DAG(G)"
   ]
  },
  {
   "cell_type": "code",
   "execution_count": null,
   "metadata": {},
   "outputs": [
    {
     "name": "stdout",
     "output_type": "stream",
     "text": [
      "-1 []\n",
      "0 [-1]\n",
      "1 [0]\n",
      "2 [0]\n",
      "3 [-1]\n",
      "4 [0]\n",
      "5 [-1]\n",
      "6 [0, 5]\n",
      "7 [-1]\n",
      "8 [1]\n",
      "9 [2]\n",
      "10 [0]\n",
      "11 [1, 6, 8, 10]\n",
      "12 [7]\n",
      "13 [0, 2, 6, 9, 12]\n",
      "14 [0]\n",
      "15 [1, 9]\n",
      "16 [0, 4, 6, 8]\n",
      "17 [0, 2, 3, 13, 15]\n",
      "18 [3, 10, 12, 14, 16]\n",
      "19 [10, 12, 18]\n",
      "20 [11, 17, 19]\n"
     ]
    }
   ],
   "source": [
    "for _id in sorted(G.nodes()):\n",
    "    preds = [pred for pred in G.predecessors(_id)]\n",
    "    print(_id,preds)"
   ]
  },
  {
   "cell_type": "code",
   "execution_count": null,
   "metadata": {},
   "outputs": [],
   "source": []
  }
 ],
 "metadata": {
  "kernelspec": {
   "display_name": "Python 3",
   "language": "python",
   "name": "python3"
  }
 },
 "nbformat": 4,
 "nbformat_minor": 2
}
